{
 "cells": [
  {
   "cell_type": "markdown",
   "id": "5b6590b7-913e-4dc8-b61e-47bd5b68d4c5",
   "metadata": {},
   "source": [
    "## Ejercicio 1"
   ]
  },
  {
   "cell_type": "code",
   "execution_count": 2,
   "id": "d0afabc7-9b6e-42d1-9fd0-7d0fce34228c",
   "metadata": {},
   "outputs": [
    {
     "name": "stdout",
     "output_type": "stream",
     "text": [
      "Resultado de a:\n",
      "[-4, 10]\n",
      "[1, 15]\n",
      "\n",
      "Resultado de b:\n",
      "[11, 4, -8]\n",
      "[6, 13, -12]\n",
      "\n",
      "Resultado de c:\n",
      "[-1, 5, -3]\n",
      "[3, 4, -11]\n",
      "[-6, -7, -4]\n",
      "\n",
      "Resultado de d:\n",
      "[-2, 1]\n",
      "[-14, 7]\n",
      "[6, 1]\n"
     ]
    }
   ],
   "source": [
    "def multiply_matrices(A, B):\n",
    "    if len(A[0]) != len(B):\n",
    "        raise ValueError(\"Número de columnas de A debe ser igual al número de filas de B\")\n",
    "    result = [[0 for _ in range(len(B[0]))] for _ in range(len(A))]\n",
    "    for i in range(len(A)):\n",
    "        for j in range(len(B[0])):\n",
    "            for k in range(len(B)):\n",
    "                result[i][j] += A[i][k] * B[k][j]\n",
    "    return result\n",
    "\n",
    "A1 = [\n",
    "    [2, -3],\n",
    "    [3, -1]\n",
    "]\n",
    "\n",
    "B1 = [\n",
    "    [1, 5],\n",
    "    [2, 0]\n",
    "]\n",
    "\n",
    "A2 = [\n",
    "    [2, -3],\n",
    "    [3, -1]\n",
    "]\n",
    "\n",
    "B2 = [\n",
    "    [1, 5, -4],\n",
    "    [-3, 2, 0]\n",
    "]\n",
    "\n",
    "A3 = [\n",
    "    [2, -3, 1],\n",
    "    [4, 3, 0],\n",
    "    [5, 2, -4]\n",
    "]\n",
    "\n",
    "B3 = [\n",
    "    [0, 1, -2],\n",
    "    [1, 0, -1],\n",
    "    [2, 3, -2]\n",
    "]\n",
    "\n",
    "A4 = [\n",
    "    [2, 1, 2],\n",
    "    [-2, 3, 0],\n",
    "    [2, -1, 3]\n",
    "]\n",
    "\n",
    "B4 = [\n",
    "    [1, -2],\n",
    "    [-4, 1],\n",
    "    [0, 2]\n",
    "]\n",
    "\n",
    "result1 = multiply_matrices(A1, B1)\n",
    "result2 = multiply_matrices(A2, B2)\n",
    "result3 = multiply_matrices(A3, B3)\n",
    "result4 = multiply_matrices(A4, B4)\n",
    "\n",
    "print(\"Resultado de a:\")\n",
    "for fila in result1:\n",
    "    print(fila)\n",
    "\n",
    "print(\"\\nResultado de b:\")\n",
    "for fila in result2:\n",
    "    print(fila)\n",
    "\n",
    "print(\"\\nResultado de c:\")\n",
    "for fila in result3:\n",
    "    print(fila)\n",
    "\n",
    "print(\"\\nResultado de d:\")\n",
    "for fila in result4:\n",
    "    print(fila)\n"
   ]
  },
  {
   "cell_type": "markdown",
   "id": "f7effced-92f3-4eb3-8d43-645b2d6a6efb",
   "metadata": {},
   "source": [
    "## Ejercicio 2"
   ]
  },
  {
   "cell_type": "code",
   "execution_count": 4,
   "id": "2b031f86-3d64-4410-acad-fa6ac9e54ebf",
   "metadata": {},
   "outputs": [
    {
     "name": "stdout",
     "output_type": "stream",
     "text": [
      "Matriz A:\n",
      "  Determinante: 0.0\n",
      "  La matriz es singular y no tiene inversa.\n",
      "\n",
      "Matriz B:\n",
      "  Determinante: -8.000000000000002\n",
      "  Inversa:\n",
      "[[-0.25   0.25   0.25 ]\n",
      " [ 0.625 -0.125 -0.125]\n",
      " [ 0.125 -0.625  0.375]]\n",
      "\n",
      "Matriz C:\n",
      "  Determinante: 0.0\n",
      "  La matriz es singular y no tiene inversa.\n",
      "\n",
      "Matriz D:\n",
      "  Determinante: 28.00000000000001\n",
      "  Inversa:\n",
      "[[ 0.25        0.          0.          0.        ]\n",
      " [-0.21428571  0.14285714 -0.         -0.        ]\n",
      " [ 0.10714286 -1.57142857  1.         -0.        ]\n",
      " [-0.5         1.         -1.          1.        ]]\n",
      "\n"
     ]
    }
   ],
   "source": [
    "import numpy as np\n",
    "\n",
    "A = np.array([\n",
    "    [4, 2, 6],\n",
    "    [3, 0, 7],\n",
    "    [-2, -1, -3]\n",
    "])\n",
    "\n",
    "B = np.array([\n",
    "    [1, 2, 0],\n",
    "    [2, 1, -1],\n",
    "    [3, 1, 1]\n",
    "])\n",
    "\n",
    "C = np.array([\n",
    "    [1, 1, -1, 1],\n",
    "    [1, 2, -4, -2],\n",
    "    [2, 1, 1, 5],\n",
    "    [-1, 0, -2, -4]\n",
    "])\n",
    "\n",
    "D = np.array([\n",
    "    [4, 0, 0, 0],\n",
    "    [6, 7, 0, 0],\n",
    "    [9, 11, 1, 0],\n",
    "    [5, 4, 1, 1]\n",
    "])\n",
    "\n",
    "def check_invertibility_and_inverse(matrix):\n",
    "    det = np.linalg.det(matrix)\n",
    "    if det != 0:\n",
    "        inverse = np.linalg.inv(matrix)\n",
    "        return det, inverse\n",
    "    else:\n",
    "        return det, None\n",
    "\n",
    "det_A, inv_A = check_invertibility_and_inverse(A)\n",
    "det_B, inv_B = check_invertibility_and_inverse(B)\n",
    "det_C, inv_C = check_invertibility_and_inverse(C)\n",
    "det_D, inv_D = check_invertibility_and_inverse(D)\n",
    "matrices = {'A': (det_A, inv_A), 'B': (det_B, inv_B), 'C': (det_C, inv_C), 'D': (det_D, inv_D)}\n",
    "\n",
    "for key, value in matrices.items():\n",
    "    print(f\"Matriz {key}:\")\n",
    "    if value[1] is not None:\n",
    "        print(f\"  Determinante: {value[0]}\")\n",
    "        print(f\"  Inversa:\\n{value[1]}\\n\")\n",
    "    else:\n",
    "        print(f\"  Determinante: {value[0]}\")\n",
    "        print(\"  La matriz es singular y no tiene inversa.\\n\")\n"
   ]
  },
  {
   "cell_type": "markdown",
   "id": "e4909291-ba09-4319-b1e2-66038b137b98",
   "metadata": {},
   "source": [
    "## Ejercicio 3"
   ]
  },
  {
   "cell_type": "code",
   "execution_count": 5,
   "id": "8a69bdb3-79e2-4ba2-8d62-5ea3f7bc17ee",
   "metadata": {},
   "outputs": [
    {
     "name": "stdout",
     "output_type": "stream",
     "text": [
      "Solución del primer sistema (x1, x2, x3, x4):\n",
      "[ 3. -6. -2. -1.]\n",
      "\n",
      "Solución del segundo sistema (x1, x2, x3, x4):\n",
      "[1. 1. 1. 1.]\n"
     ]
    }
   ],
   "source": [
    "import numpy as np\n",
    "\n",
    "A = np.array([\n",
    "    [1, -1, 2, -1],\n",
    "    [1, 0, -1, 1],\n",
    "    [2, 1, 3, -4],\n",
    "    [0, -1, 1, -1]\n",
    "])\n",
    "\n",
    "b1 = np.array([6, 4, -2, 5])\n",
    "b2 = np.array([1, 1, 2, -1])\n",
    "\n",
    "x1 = np.linalg.solve(A, b1)\n",
    "x2 = np.linalg.solve(A, b2)\n",
    "\n",
    "print(\"Solución del primer sistema (x1, x2, x3, x4):\")\n",
    "print(x1)\n",
    "\n",
    "print(\"\\nSolución del segundo sistema (x1, x2, x3, x4):\")\n",
    "print(x2)\n"
   ]
  },
  {
   "cell_type": "markdown",
   "id": "29a428c4-92f7-4660-9955-0aff6aaa0878",
   "metadata": {},
   "source": [
    "## Ejercicio 4"
   ]
  },
  {
   "cell_type": "code",
   "execution_count": 7,
   "id": "84540e4c-a848-477a-a07c-0a0ef723cf73",
   "metadata": {},
   "outputs": [
    {
     "name": "stdout",
     "output_type": "stream",
     "text": [
      "Valores de alpha que hacen que la matriz A sea singular:\n",
      "[-1.50000000000000, 2.00000000000000]\n"
     ]
    }
   ],
   "source": [
    "import sympy as sp\n",
    "\n",
    "alpha = sp.symbols('alpha')\n",
    "\n",
    "A = sp.Matrix([\n",
    "    [1, -1, alpha],\n",
    "    [2, 2, 1],\n",
    "    [0, alpha, -3/2]\n",
    "])\n",
    "\n",
    "det_A = A.det()\n",
    "alpha_solutions = sp.solve(det_A, alpha)\n",
    "print(\"Valores de alpha que hacen que la matriz A sea singular:\")\n",
    "print(alpha_solutions)\n"
   ]
  },
  {
   "cell_type": "markdown",
   "id": "5e59d9fe-5125-4e4c-b286-7be48e920cfd",
   "metadata": {},
   "source": [
    "## Ejercicio 5"
   ]
  },
  {
   "cell_type": "code",
   "execution_count": 10,
   "id": "318e60c9-5a11-4653-93b7-06242245284f",
   "metadata": {},
   "outputs": [
    {
     "name": "stdout",
     "output_type": "stream",
     "text": [
      "Solución del sistema a:\n",
      "[-2.13162821e-16  3.00000000e+00  3.00000000e+00]\n",
      "Solución del sistema b:\n",
      "[ 1.  4. 11.]\n"
     ]
    }
   ],
   "source": [
    "import numpy as np\n",
    "from scipy.linalg import lu, lu_factor, lu_solve\n",
    "\n",
    "A1 = np.array([[1, 0, 0], [2, 1, 0], [-1, 0, 1]])\n",
    "B1 = np.array([[2, 3, -1], [0, -2, 1], [0, 0, 3]])\n",
    "C1 = np.array([2, -1, 1])\n",
    "\n",
    "A2 = np.array([[2, 0, 0], [-1, 1, 0], [3, 2, -1]])\n",
    "B2 = np.array([[1, 1, 1], [0, 1, 2], [0, 0, 1]])\n",
    "C2 = np.array([-1, 3, 0])\n",
    "P1, L1, U1 = lu(A1)\n",
    "B1_inv = np.linalg.inv(B1)\n",
    "A1_prime = np.dot(B1_inv, A1)\n",
    "lu1, piv1 = lu_factor(A1_prime)\n",
    "x1 = lu_solve((lu1, piv1), C1)\n",
    "\n",
    "P2, L2, U2 = lu(A2)\n",
    "B2_inv = np.linalg.inv(B2)\n",
    "A2_prime = np.dot(B2_inv, A2)\n",
    "lu2, piv2 = lu_factor(A2_prime)\n",
    "x2 = lu_solve((lu2, piv2), C2)\n",
    "print(\"Solución del sistema a:\")\n",
    "print(x1)\n",
    "print(\"Solución del sistema b:\")\n",
    "print(x2)\n"
   ]
  },
  {
   "cell_type": "markdown",
   "id": "056cb1bb-6252-4043-8d98-072ed855c922",
   "metadata": {},
   "source": [
    "## Ejercicio 6"
   ]
  },
  {
   "cell_type": "code",
   "execution_count": 11,
   "id": "42b025ba-3215-4f8f-8019-7e92d79977d9",
   "metadata": {},
   "outputs": [
    {
     "name": "stdout",
     "output_type": "stream",
     "text": [
      "Factorización LU de la matriz a:\n",
      "L:\n",
      "[[ 1.          0.          0.        ]\n",
      " [ 0.66666667  1.          0.        ]\n",
      " [ 1.         -0.          1.        ]]\n",
      "U:\n",
      "[[ 3.  3.  9.]\n",
      " [ 0. -3. -5.]\n",
      " [ 0.  0. -4.]]\n",
      "\n",
      "Factorización LU de la matriz b:\n",
      "L:\n",
      "[[ 1.          0.          0.        ]\n",
      " [-0.68685567  1.          0.        ]\n",
      " [ 0.32603093 -0.21424728  1.        ]]\n",
      "U:\n",
      "[[ 3.104      -7.013       0.014     ]\n",
      " [ 0.         -0.72091881 -7.00338402]\n",
      " [ 0.          0.          1.59897957]]\n",
      "\n",
      "Factorización LU de la matriz c:\n",
      "L:\n",
      "[[ 1.          0.          0.          0.        ]\n",
      " [ 0.          1.          0.          0.        ]\n",
      " [ 1.          0.66666667  1.          0.        ]\n",
      " [ 0.5        -0.5         0.375       1.        ]]\n",
      "U:\n",
      "[[ 2.          0.          0.          0.        ]\n",
      " [ 0.         -3.          0.5         0.        ]\n",
      " [ 0.          0.          0.66666667  1.        ]\n",
      " [ 0.          0.          0.         -0.375     ]]\n",
      "\n",
      "Factorización LU de la matriz d:\n",
      "L:\n",
      "[[ 1.          0.          0.          0.        ]\n",
      " [-0.66790072  1.          0.          0.        ]\n",
      " [ 0.36118536  0.14002434  1.          0.        ]\n",
      " [-0.16601644 -0.37924771 -0.5112737   1.        ]]\n",
      "U:\n",
      "[[ 6.0235      7.          0.         -4.1561    ]\n",
      " [ 0.         10.67530506  0.         -1.57856219]\n",
      " [ 0.          0.         -2.1732      6.91885959]\n",
      " [ 0.          0.          0.          2.24878393]]\n",
      "\n"
     ]
    }
   ],
   "source": [
    "import numpy as np\n",
    "from scipy.linalg import lu\n",
    "\n",
    "matrices = {\n",
    "    'a': np.array([[2, -1, 1], [3, 3, 9], [3, 3, 5]]),\n",
    "    'b': np.array([[1.012, -2.132, 3.104], [-2.132, 4.096, -7.013], [3.104, -7.013, 0.014]]),\n",
    "    'c': np.array([[2, 0, 0, 0], [1, 1.5, 0, 0], [0, -3, 0.5, 0], [2, -2, 1, 1]]),\n",
    "    'd': np.array([[2.1756, 4.0231, -2.1732, 5.1967], [-4.0231, 6, 0, 1.1973], [-1, -5.2107, 1.1111, 0], [6.0235, 7, 0, -4.1561]])\n",
    "}\n",
    "factorizaciones = {}\n",
    "for key, matrix in matrices.items():\n",
    "    P, L, U = lu(matrix)\n",
    "    factorizaciones[key] = (L, U)\n",
    "for key, (L, U) in factorizaciones.items():\n",
    "    print(f\"Factorización LU de la matriz {key}:\")\n",
    "    print(\"L:\")\n",
    "    print(L)\n",
    "    print(\"U:\")\n",
    "    print(U)\n",
    "    print()\n"
   ]
  },
  {
   "cell_type": "markdown",
   "id": "6c71c1df-23a2-46e5-b22f-39eb17de37fc",
   "metadata": {},
   "source": [
    "## Ejercicio 7"
   ]
  },
  {
   "cell_type": "code",
   "execution_count": 14,
   "id": "527ac43e-93fb-42f1-b06f-9181ade8903c",
   "metadata": {},
   "outputs": [
    {
     "data": {
      "text/plain": [
       "{'a': array([ 1.,  2., -1.]),\n",
       " 'b': array([1., 1., 1.]),\n",
       " 'c': array([ 1.5,  2. , -1.2,  3. ]),\n",
       " 'd': array([2.9398512 , 0.0706777 , 5.67773512, 4.37981223])}"
      ]
     },
     "execution_count": 14,
     "metadata": {},
     "output_type": "execute_result"
    }
   ],
   "source": [
    "import numpy as np\n",
    "\n",
    "def lu_decomposition(A):\n",
    "    A = A.astype(float)\n",
    "    n = len(A)\n",
    "    L = np.eye(n)\n",
    "    U = np.copy(A)\n",
    "    \n",
    "    for i in range(n):\n",
    "        for j in range(i + 1, n):\n",
    "            factor = U[j, i] / U[i, i]\n",
    "            U[j, i:] -= factor * U[i, i:]\n",
    "            L[j, i] = factor\n",
    "    \n",
    "    return L, U\n",
    "\n",
    "def solve_lu(L, U, b):\n",
    "    y = np.zeros_like(b, dtype=np.double)\n",
    "    for i in range(len(b)):\n",
    "        y[i] = b[i] - np.dot(L[i, :i], y[:i])\n",
    "    x = np.zeros_like(b, dtype=np.double)\n",
    "    for i in range(len(b) - 1, -1, -1):\n",
    "        x[i] = (y[i] - np.dot(U[i, i + 1:], x[i + 1:])) / U[i, i]\n",
    "    return x\n",
    "\n",
    "sistemas = {\n",
    "    'a': (np.array([[2, -1, 1], [3, 3, 9], [3, 3, 5]]), np.array([-1, 0, 4])),\n",
    "    'b': (np.array([[1.012, -2.132, 3.104], [-2.132, 4.096, -7.013], [3.104, -7.013, 0.014]]), np.array([1.984, -5.049, -3.895])),\n",
    "    'c': (np.array([[2, 0, 0, 0], [1, 1.5, 0, 0], [0, -3, 0.5, 0], [2, -2, 1, 1]]), np.array([3, 4.5, -6.6, 0.8])),\n",
    "    'd': (np.array([[2.1756, 4.0231, -2.1732, 5.1967], [-4.0231, 6, 0, 1.1973], [-1, -5.2107, 1.1111, 0], [6.0235, 7, 0, -4.1561]]), np.array([17.102, -6.1593, 3.0004, 0]))\n",
    "}\n",
    "\n",
    "soluciones = {}\n",
    "for key, (A, b) in sistemas.items():\n",
    "    L, U = lu_decomposition(A)\n",
    "    x = solve_lu(L, U, b)\n",
    "    soluciones[key] = x\n",
    "soluciones\n"
   ]
  },
  {
   "cell_type": "code",
   "execution_count": null,
   "id": "c1903fd0-288e-4465-a30a-490213571868",
   "metadata": {},
   "outputs": [],
   "source": []
  }
 ],
 "metadata": {
  "kernelspec": {
   "display_name": "Python 3 (ipykernel)",
   "language": "python",
   "name": "python3"
  },
  "language_info": {
   "codemirror_mode": {
    "name": "ipython",
    "version": 3
   },
   "file_extension": ".py",
   "mimetype": "text/x-python",
   "name": "python",
   "nbconvert_exporter": "python",
   "pygments_lexer": "ipython3",
   "version": "3.12.4"
  }
 },
 "nbformat": 4,
 "nbformat_minor": 5
}
